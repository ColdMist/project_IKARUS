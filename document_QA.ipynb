{
  "cells": [
    {
      "cell_type": "markdown",
      "source": [
        "First install all the required libraries"
      ],
      "metadata": {
        "id": "k1xbwUAbpJ7S"
      }
    },
    {
      "cell_type": "code",
      "execution_count": 1,
      "metadata": {
        "colab": {
          "base_uri": "https://localhost:8080/"
        },
        "id": "cM-ze7Yzk26j",
        "outputId": "4b3f66d1-72bf-4db6-fef0-1452785c7b65"
      },
      "outputs": [
        {
          "output_type": "stream",
          "name": "stdout",
          "text": [
            "Collecting langchain\n",
            "  Downloading langchain-0.0.251-py3-none-any.whl (1.4 MB)\n",
            "\u001b[2K     \u001b[90m━━━━━━━━━━━━━━━━━━━━━━━━━━━━━━━━━━━━━━━━\u001b[0m \u001b[32m1.4/1.4 MB\u001b[0m \u001b[31m9.7 MB/s\u001b[0m eta \u001b[36m0:00:00\u001b[0m\n",
            "\u001b[?25hRequirement already satisfied: PyYAML>=5.4.1 in /usr/local/lib/python3.10/dist-packages (from langchain) (6.0.1)\n",
            "Requirement already satisfied: SQLAlchemy<3,>=1.4 in /usr/local/lib/python3.10/dist-packages (from langchain) (2.0.19)\n",
            "Requirement already satisfied: aiohttp<4.0.0,>=3.8.3 in /usr/local/lib/python3.10/dist-packages (from langchain) (3.8.5)\n",
            "Requirement already satisfied: async-timeout<5.0.0,>=4.0.0 in /usr/local/lib/python3.10/dist-packages (from langchain) (4.0.2)\n",
            "Collecting dataclasses-json<0.6.0,>=0.5.7 (from langchain)\n",
            "  Downloading dataclasses_json-0.5.14-py3-none-any.whl (26 kB)\n",
            "Collecting langsmith<0.1.0,>=0.0.11 (from langchain)\n",
            "  Downloading langsmith-0.0.18-py3-none-any.whl (31 kB)\n",
            "Requirement already satisfied: numexpr<3.0.0,>=2.8.4 in /usr/local/lib/python3.10/dist-packages (from langchain) (2.8.4)\n",
            "Requirement already satisfied: numpy<2,>=1 in /usr/local/lib/python3.10/dist-packages (from langchain) (1.22.4)\n",
            "Collecting openapi-schema-pydantic<2.0,>=1.2 (from langchain)\n",
            "  Downloading openapi_schema_pydantic-1.2.4-py3-none-any.whl (90 kB)\n",
            "\u001b[2K     \u001b[90m━━━━━━━━━━━━━━━━━━━━━━━━━━━━━━━━━━━━━━━━\u001b[0m \u001b[32m90.0/90.0 kB\u001b[0m \u001b[31m9.8 MB/s\u001b[0m eta \u001b[36m0:00:00\u001b[0m\n",
            "\u001b[?25hRequirement already satisfied: pydantic<2,>=1 in /usr/local/lib/python3.10/dist-packages (from langchain) (1.10.12)\n",
            "Requirement already satisfied: requests<3,>=2 in /usr/local/lib/python3.10/dist-packages (from langchain) (2.27.1)\n",
            "Requirement already satisfied: tenacity<9.0.0,>=8.1.0 in /usr/local/lib/python3.10/dist-packages (from langchain) (8.2.2)\n",
            "Requirement already satisfied: attrs>=17.3.0 in /usr/local/lib/python3.10/dist-packages (from aiohttp<4.0.0,>=3.8.3->langchain) (23.1.0)\n",
            "Requirement already satisfied: charset-normalizer<4.0,>=2.0 in /usr/local/lib/python3.10/dist-packages (from aiohttp<4.0.0,>=3.8.3->langchain) (2.0.12)\n",
            "Requirement already satisfied: multidict<7.0,>=4.5 in /usr/local/lib/python3.10/dist-packages (from aiohttp<4.0.0,>=3.8.3->langchain) (6.0.4)\n",
            "Requirement already satisfied: yarl<2.0,>=1.0 in /usr/local/lib/python3.10/dist-packages (from aiohttp<4.0.0,>=3.8.3->langchain) (1.9.2)\n",
            "Requirement already satisfied: frozenlist>=1.1.1 in /usr/local/lib/python3.10/dist-packages (from aiohttp<4.0.0,>=3.8.3->langchain) (1.4.0)\n",
            "Requirement already satisfied: aiosignal>=1.1.2 in /usr/local/lib/python3.10/dist-packages (from aiohttp<4.0.0,>=3.8.3->langchain) (1.3.1)\n",
            "Collecting marshmallow<4.0.0,>=3.18.0 (from dataclasses-json<0.6.0,>=0.5.7->langchain)\n",
            "  Downloading marshmallow-3.20.1-py3-none-any.whl (49 kB)\n",
            "\u001b[2K     \u001b[90m━━━━━━━━━━━━━━━━━━━━━━━━━━━━━━━━━━━━━━━━\u001b[0m \u001b[32m49.4/49.4 kB\u001b[0m \u001b[31m4.9 MB/s\u001b[0m eta \u001b[36m0:00:00\u001b[0m\n",
            "\u001b[?25hCollecting typing-inspect<1,>=0.4.0 (from dataclasses-json<0.6.0,>=0.5.7->langchain)\n",
            "  Downloading typing_inspect-0.9.0-py3-none-any.whl (8.8 kB)\n",
            "Requirement already satisfied: typing-extensions>=4.2.0 in /usr/local/lib/python3.10/dist-packages (from pydantic<2,>=1->langchain) (4.7.1)\n",
            "Requirement already satisfied: urllib3<1.27,>=1.21.1 in /usr/local/lib/python3.10/dist-packages (from requests<3,>=2->langchain) (1.26.16)\n",
            "Requirement already satisfied: certifi>=2017.4.17 in /usr/local/lib/python3.10/dist-packages (from requests<3,>=2->langchain) (2023.7.22)\n",
            "Requirement already satisfied: idna<4,>=2.5 in /usr/local/lib/python3.10/dist-packages (from requests<3,>=2->langchain) (3.4)\n",
            "Requirement already satisfied: greenlet!=0.4.17 in /usr/local/lib/python3.10/dist-packages (from SQLAlchemy<3,>=1.4->langchain) (2.0.2)\n",
            "Requirement already satisfied: packaging>=17.0 in /usr/local/lib/python3.10/dist-packages (from marshmallow<4.0.0,>=3.18.0->dataclasses-json<0.6.0,>=0.5.7->langchain) (23.1)\n",
            "Collecting mypy-extensions>=0.3.0 (from typing-inspect<1,>=0.4.0->dataclasses-json<0.6.0,>=0.5.7->langchain)\n",
            "  Downloading mypy_extensions-1.0.0-py3-none-any.whl (4.7 kB)\n",
            "Installing collected packages: mypy-extensions, marshmallow, typing-inspect, openapi-schema-pydantic, langsmith, dataclasses-json, langchain\n",
            "Successfully installed dataclasses-json-0.5.14 langchain-0.0.251 langsmith-0.0.18 marshmallow-3.20.1 mypy-extensions-1.0.0 openapi-schema-pydantic-1.2.4 typing-inspect-0.9.0\n",
            "Collecting tiktoken\n",
            "  Downloading tiktoken-0.4.0-cp310-cp310-manylinux_2_17_x86_64.manylinux2014_x86_64.whl (1.7 MB)\n",
            "\u001b[2K     \u001b[90m━━━━━━━━━━━━━━━━━━━━━━━━━━━━━━━━━━━━━━━━\u001b[0m \u001b[32m1.7/1.7 MB\u001b[0m \u001b[31m18.0 MB/s\u001b[0m eta \u001b[36m0:00:00\u001b[0m\n",
            "\u001b[?25hRequirement already satisfied: regex>=2022.1.18 in /usr/local/lib/python3.10/dist-packages (from tiktoken) (2022.10.31)\n",
            "Requirement already satisfied: requests>=2.26.0 in /usr/local/lib/python3.10/dist-packages (from tiktoken) (2.27.1)\n",
            "Requirement already satisfied: urllib3<1.27,>=1.21.1 in /usr/local/lib/python3.10/dist-packages (from requests>=2.26.0->tiktoken) (1.26.16)\n",
            "Requirement already satisfied: certifi>=2017.4.17 in /usr/local/lib/python3.10/dist-packages (from requests>=2.26.0->tiktoken) (2023.7.22)\n",
            "Requirement already satisfied: charset-normalizer~=2.0.0 in /usr/local/lib/python3.10/dist-packages (from requests>=2.26.0->tiktoken) (2.0.12)\n",
            "Requirement already satisfied: idna<4,>=2.5 in /usr/local/lib/python3.10/dist-packages (from requests>=2.26.0->tiktoken) (3.4)\n",
            "Installing collected packages: tiktoken\n",
            "Successfully installed tiktoken-0.4.0\n",
            "Collecting faiss-cpu\n",
            "  Downloading faiss_cpu-1.7.4-cp310-cp310-manylinux_2_17_x86_64.manylinux2014_x86_64.whl (17.6 MB)\n",
            "\u001b[2K     \u001b[90m━━━━━━━━━━━━━━━━━━━━━━━━━━━━━━━━━━━━━━━━\u001b[0m \u001b[32m17.6/17.6 MB\u001b[0m \u001b[31m20.7 MB/s\u001b[0m eta \u001b[36m0:00:00\u001b[0m\n",
            "\u001b[?25hInstalling collected packages: faiss-cpu\n",
            "Successfully installed faiss-cpu-1.7.4\n",
            "Collecting openai\n",
            "  Downloading openai-0.27.8-py3-none-any.whl (73 kB)\n",
            "\u001b[2K     \u001b[90m━━━━━━━━━━━━━━━━━━━━━━━━━━━━━━━━━━━━━━━━\u001b[0m \u001b[32m73.6/73.6 kB\u001b[0m \u001b[31m1.6 MB/s\u001b[0m eta \u001b[36m0:00:00\u001b[0m\n",
            "\u001b[?25hRequirement already satisfied: requests>=2.20 in /usr/local/lib/python3.10/dist-packages (from openai) (2.27.1)\n",
            "Requirement already satisfied: tqdm in /usr/local/lib/python3.10/dist-packages (from openai) (4.65.0)\n",
            "Requirement already satisfied: aiohttp in /usr/local/lib/python3.10/dist-packages (from openai) (3.8.5)\n",
            "Requirement already satisfied: urllib3<1.27,>=1.21.1 in /usr/local/lib/python3.10/dist-packages (from requests>=2.20->openai) (1.26.16)\n",
            "Requirement already satisfied: certifi>=2017.4.17 in /usr/local/lib/python3.10/dist-packages (from requests>=2.20->openai) (2023.7.22)\n",
            "Requirement already satisfied: charset-normalizer~=2.0.0 in /usr/local/lib/python3.10/dist-packages (from requests>=2.20->openai) (2.0.12)\n",
            "Requirement already satisfied: idna<4,>=2.5 in /usr/local/lib/python3.10/dist-packages (from requests>=2.20->openai) (3.4)\n",
            "Requirement already satisfied: attrs>=17.3.0 in /usr/local/lib/python3.10/dist-packages (from aiohttp->openai) (23.1.0)\n",
            "Requirement already satisfied: multidict<7.0,>=4.5 in /usr/local/lib/python3.10/dist-packages (from aiohttp->openai) (6.0.4)\n",
            "Requirement already satisfied: async-timeout<5.0,>=4.0.0a3 in /usr/local/lib/python3.10/dist-packages (from aiohttp->openai) (4.0.2)\n",
            "Requirement already satisfied: yarl<2.0,>=1.0 in /usr/local/lib/python3.10/dist-packages (from aiohttp->openai) (1.9.2)\n",
            "Requirement already satisfied: frozenlist>=1.1.1 in /usr/local/lib/python3.10/dist-packages (from aiohttp->openai) (1.4.0)\n",
            "Requirement already satisfied: aiosignal>=1.1.2 in /usr/local/lib/python3.10/dist-packages (from aiohttp->openai) (1.3.1)\n",
            "Installing collected packages: openai\n",
            "Successfully installed openai-0.27.8\n",
            "Collecting PyPDF2\n",
            "  Downloading pypdf2-3.0.1-py3-none-any.whl (232 kB)\n",
            "\u001b[2K     \u001b[90m━━━━━━━━━━━━━━━━━━━━━━━━━━━━━━━━━━━━━━━\u001b[0m \u001b[32m232.6/232.6 kB\u001b[0m \u001b[31m4.2 MB/s\u001b[0m eta \u001b[36m0:00:00\u001b[0m\n",
            "\u001b[?25hInstalling collected packages: PyPDF2\n",
            "Successfully installed PyPDF2-3.0.1\n"
          ]
        }
      ],
      "source": [
        "!pip install langchain\n",
        "!pip install tiktoken\n",
        "!pip install faiss-cpu\n",
        "!pip install openai\n",
        "!pip install PyPDF2"
      ]
    },
    {
      "cell_type": "markdown",
      "source": [
        "Import the required libraries"
      ],
      "metadata": {
        "id": "GWQ-u5RPpUW2"
      }
    },
    {
      "cell_type": "code",
      "execution_count": 2,
      "metadata": {
        "id": "LlkRIDvbmHVk"
      },
      "outputs": [],
      "source": [
        "from PyPDF2 import PdfReader\n",
        "from langchain.text_splitter import CharacterTextSplitter\n",
        "import os\n",
        "#import en_core_web_sm\n",
        "import pickle\n",
        "import json\n",
        "from flask import Flask, request, render_template, redirect\n",
        "from langchain.embeddings import OpenAIEmbeddings\n",
        "from langchain.chains import VectorDBQA, RetrievalQA, ConversationalRetrievalChain\n",
        "from langchain.llms import OpenAI\n",
        "from langchain.memory import ConversationBufferMemory\n",
        "from langchain.vectorstores import FAISS\n",
        "from langchain import PromptTemplate\n",
        "import os"
      ]
    },
    {
      "cell_type": "markdown",
      "source": [
        "Define the functions needs to preprocess text from pdf."
      ],
      "metadata": {
        "id": "SWPuUC61pbCE"
      }
    },
    {
      "cell_type": "code",
      "execution_count": 3,
      "metadata": {
        "id": "_XtCsOPnlAcr"
      },
      "outputs": [],
      "source": [
        "def preprocess_texts(raw_text):\n",
        "    '''\n",
        "    @param raw_text: the concatinated text to be processed\n",
        "    @return texts: the splitted and tokenized text\n",
        "    '''\n",
        "    text_splitter = CharacterTextSplitter(\n",
        "                        separator = \"\\n\",\n",
        "                        chunk_size = 1024,\n",
        "                        chunk_overlap  = 200,\n",
        "                        length_function = len,\n",
        "                    )\n",
        "    texts = text_splitter.split_text(raw_text)\n",
        "    return texts\n",
        "\n",
        "def read_pdf_text(path, preprocess_langchain=False):\n",
        "    '''\n",
        "    @param path: the pdf object path\n",
        "    @param preprocess_langchain: preprocessing flag from langchain\n",
        "    @return texts: all the text from the pdf concatinated\n",
        "    '''\n",
        "    reader = PdfReader(path)\n",
        "    raw_text = ''\n",
        "\n",
        "    for i, page in enumerate(reader.pages):\n",
        "        text = page.extract_text()\n",
        "        if text:\n",
        "            raw_text += text\n",
        "\n",
        "    if preprocess_langchain:\n",
        "        texts = preprocess_texts(raw_text)\n",
        "    else:\n",
        "        texts = raw_text\n",
        "    return texts\n",
        "\n",
        "def process_all_pdfs(directory_path, preprocess_langchain=False):\n",
        "    '''\n",
        "    @param directory_path: get the directory of the documentstore\n",
        "    @param preprocess_langchain: if the preprocess for langchain to optimize token in chunks should be done\n",
        "    @param returns: all the concatinated texts from pdfs\n",
        "    '''\n",
        "    all_texts = []\n",
        "    for filename in os.listdir(directory_path):\n",
        "        if filename.endswith('.pdf'):\n",
        "            filepath = os.path.join(directory_path, filename)\n",
        "            texts = read_pdf_text(filepath, preprocess_langchain)\n",
        "            all_texts.extend(texts)\n",
        "    return all_texts"
      ]
    },
    {
      "cell_type": "markdown",
      "source": [
        "Provide your openAI api key"
      ],
      "metadata": {
        "id": "deio81IBplzk"
      }
    },
    {
      "cell_type": "code",
      "execution_count": 4,
      "metadata": {
        "id": "0rbnroPilYxD"
      },
      "outputs": [],
      "source": [
        "os.environ[\"OPENAI_API_KEY\"] = \"your openai api key\""
      ]
    },
    {
      "cell_type": "markdown",
      "source": [
        "Provide the embedding model name and the llm"
      ],
      "metadata": {
        "id": "SCZL1-jar0HU"
      }
    },
    {
      "cell_type": "code",
      "source": [
        "embedding_model_name ='text-embedding-ada-002'\n",
        "llm_model_name = 'gpt-3.5-turbo-16k'"
      ],
      "metadata": {
        "id": "9wHXjsELq7c7"
      },
      "execution_count": 5,
      "outputs": []
    },
    {
      "cell_type": "markdown",
      "source": [
        "Initialize the embeddings"
      ],
      "metadata": {
        "id": "nFDaWH7fpqbb"
      }
    },
    {
      "cell_type": "code",
      "execution_count": 6,
      "metadata": {
        "id": "Pyb4uMqbmjtJ",
        "colab": {
          "base_uri": "https://localhost:8080/"
        },
        "outputId": "5d3fe650-4752-439a-8f1a-4d4b5e6416de"
      },
      "outputs": [
        {
          "output_type": "stream",
          "name": "stderr",
          "text": [
            "/usr/local/lib/python3.10/dist-packages/langchain/llms/openai.py:200: UserWarning: You are trying to use a chat model. This way of initializing it is no longer supported. Instead, please use: `from langchain.chat_models import ChatOpenAI`\n",
            "  warnings.warn(\n",
            "/usr/local/lib/python3.10/dist-packages/langchain/llms/openai.py:801: UserWarning: You are trying to use a chat model. This way of initializing it is no longer supported. Instead, please use: `from langchain.chat_models import ChatOpenAI`\n",
            "  warnings.warn(\n"
          ]
        }
      ],
      "source": [
        "# initialize the embeddings using openAI ada text embedding library and the llm model using gpt-3.5-turbo-16k\n",
        "embeddings = OpenAIEmbeddings(model=embedding_model_name)\n",
        "llm = OpenAI(temperature=0, model_name=llm_model_name)"
      ]
    },
    {
      "cell_type": "markdown",
      "source": [
        "Ingest and read the pdf file; process them in chunks"
      ],
      "metadata": {
        "id": "qZWhU-YbseYi"
      }
    },
    {
      "cell_type": "code",
      "execution_count": 7,
      "metadata": {
        "id": "mcRsFe42m3-R"
      },
      "outputs": [],
      "source": [
        "# initialize and read the *.pdf object\n",
        "texts = process_all_pdfs('/content/document_store', preprocess_langchain=True) # replace 'directory_path' with your directory"
      ]
    },
    {
      "cell_type": "code",
      "execution_count": 8,
      "metadata": {
        "colab": {
          "base_uri": "https://localhost:8080/"
        },
        "id": "29wriWVinyZK",
        "outputId": "052c4b4c-8a81-4795-cd42-2907ee8ec4b0"
      },
      "outputs": [
        {
          "output_type": "stream",
          "name": "stdout",
          "text": [
            "processed text chunks are: ['AgePage \\nAging and Your Eyes \\nAs you age, it is normal to notice changes in your \\nvision. A few common changes for older adults include: \\n\\uf06eLosing the ability to see up close \\n\\uf06eHaving trouble distinguishing colors, such as \\nblue from black \\uf06eNeeding more time to adjust to changing \\nlevels of light \\nThese problems are often easily corrected. \\nGlasses, contact lenses, and improved lighting \\nmay help and enable you to maintain your lifestyle and independence. \\nYour risk for some eye diseases and conditions \\nincreases as you grow older, and some eye changes are more serious. Keep your eyes as healthy as possible by getting regular eye exams so any problems can be spotted early. \\nWhat Can You Do To Protect \\nYour Vision? \\nHave your eyes checked regularly by an eye \\ncare professional — either an ophthalmologist or', 'What Can You Do To Protect \\nYour Vision? \\nHave your eyes checked regularly by an eye \\ncare professional — either an ophthalmologist or \\noptometrist. Finding and treating any problems early can help protect your vision and prevent vision loss. Make a list of your questions and concerns to share with the doctor. Tell them which medications you are taking. Some can affect your eyes. \\nNormal changes in the aging eye usually do \\nnot harm your vision. However, sometimes they can be signs of a more serious problem. For example, your eyes may leak tears. This can happen with light sensitivity, wind, or temperature changes. Sunglasses and eye drops may help. Sometimes, leaking tears may be a symptom of dry eye or a sign of an infection or Tips for Healthy Eyes at \\nAny Age \\nThere are things you can do to take good \\ncare of your eyes and help keep them healthy as you age: \\nProtect your eyes from sunlight by wearing \\nsunglasses that block ultraviolet (UV) radiation and a hat with a wide brim when you are outside.', 'care of your eyes and help keep them healthy as you age: \\nProtect your eyes from sunlight by wearing \\nsunglasses that block ultraviolet (UV) radiation and a hat with a wide brim when you are outside. \\n■ Stop smoking. \\n■ Make smart food choices. \\n■ Be physically active and maintain a \\nhealthy weight. \\n■ Maintain normal blood pressure. \\n■ Manage diabetes (if you have it). \\n■ If you spend a lot of time at the \\ncomputer or focused on one thing, take \\na break every 20 minutes to look about 20 feet away for 20 seconds to prevent eye strain. \\nblocked tear ducts. Your eye care professional can \\ntreat these problems. \\nMany people don’t notice any signs or', 'blocked tear ducts. Your eye care professional can \\ntreat these problems. \\nMany people don’t notice any signs or \\nsymptoms in the early stages of eye diseases. A dilated eye exam performed by an eye care professional is the only way to fnd some common eye diseases while they’re easier to treat — and before they cause vision loss. Everyone over age 50 should have a dilated eye exam every year or as recommended by your eye care professional, even if you have good vision and don’t wear contacts or glasses. After age 60, you should get a dilated eye exam every year or two. Most people with diabetes or high blood pressure need to get a dilated exam at least once a year. \\nDuring this exam, the eye care professional \\nwill put drops in your eyes to widen (dilate) your pupils so that he or she can better see inside each \\n1  \\n \\n \\n \\n \\n \\n \\n \\n \\n \\n \\n \\n \\n \\n \\n  \\n \\n \\n \\n \\n  \\n  \\n  \\n \\n \\n    \\n \\n \\n  \\n \\n \\n \\n \\n \\n \\n \\n  \\n \\n \\n \\n \\n \\n \\n  \\n \\n \\n \\n \\n \\n  \\n \\n \\n \\n \\n \\n \\n \\n \\n \\n \\n \\n \\n Signs of an Eye Emergency', '1  \\n \\n \\n \\n \\n \\n \\n \\n \\n \\n \\n \\n \\n \\n \\n  \\n \\n \\n \\n \\n  \\n  \\n  \\n \\n \\n    \\n \\n \\n  \\n \\n \\n \\n \\n \\n \\n \\n  \\n \\n \\n \\n \\n \\n \\n  \\n \\n \\n \\n \\n \\n  \\n \\n \\n \\n \\n \\n \\n \\n \\n \\n \\n \\n \\n Signs of an Eye Emergency \\nSee an eye care professional right away \\nif you: \\n■ Suddenly cannot see or everything \\nlooks blurry \\n■ See many new foaters (tiny specks or \\n“cobwebs” that seem to foat across your \\nvision) and/or fashes of light \\n■ Have eye pain \\n■ Experience double vision \\n■ Have redness or swelling of your eye \\nor eyelid \\neye. Your vision may be blurry after the exam, \\nand your eyes may be more sensitive to light. This only lasts a few hours. Make plans for someone else to drive you home. \\nIf you wear glasses or contact lenses, get your \\nprescription checked, too. Even small changes in sight can increase your risk for falls and injuries. It’s important to use the proper prescription glasses or contact lenses. \\nSee your primary health care provider', 'See your primary health care provider \\nregularly to check for diseases like diabetes and high blood pressure. These diseases can cause eye problems if not controlled or treated. \\nEye Diseases and Conditions \\nThe following eye problems can lead to vision \\nloss and blindness in older adults. These problems may have few or no early symptoms. Regular eye exams are your best protection. If your eye care professional fnds a problem early, often there are things you can do to protect your vision. \\uf06eAge-related macular degeneration (AMD) \\ncan harm the sharp, central vision needed to see objects clearly and to do common things like driving and reading. Your eye care professional will ask about your family history and look for signs of AMD during a dilated eye exam. Treatments are available, and special dietary supplements may help lower your chance of it getting worse. \\uf06eDiabetic retinopathy  may occur if you have', 'diabetes. It develops slowly, often with no early warning signs. If you have diabetes, be sure to have a dilated eye exam at least once a year. Keeping your blood sugar, blood pressure, and cholesterol under control can prevent diabetic retinopathy or slow its progress in early stages. Laser surgery in later stages can sometimes prevent it from getting worse. \\uf06eCataracts  are cloudy areas in the eye’s lens \\nthat cause blurred or hazy vision. Some cataracts stay small and don’t change your eyesight much. Others become large and reduce vision. Cataract surgery can restore good vision and is a safe and common treatment. If you have a cataract, your eye care professional will watch for changes over time to see if you would beneft from surgery. \\uf06eGlaucoma  is usually caused by too much fuid', 'pressure inside the eye. If not treated, it can lead to vision loss and blindness. People with glaucoma often have no early symptoms or pain. You can help protect yourself by having dilated eye exams yearly. Glaucoma can be treated with prescription eye drops, lasers, or surgery. \\uf06eDry eye  occurs when tear glands don’t work \\nwell. You may feel stinging or burning, a sandy feeling as if something is in the eye, or other discomfort. Dry eye is common as people get older, especially for women. Your eye care professional may tell you to use a home humidifer or air purifer, special eye drops (artifcial tears), or ointments to treat dry eye. For more severe cases, treatment options might include prescription medication, tear duct plugs, or surgery. \\nWhat Is Low Vision? \\nLow vision means you cannot fx your eyesight \\nwith glasses, contact lenses, medication, or surgery. Low vision affects some people as they age. You may have low vision if you: \\n2', '2   \\n \\n  \\n \\n  \\n \\n \\n \\n \\n \\n \\n \\n \\n \\n \\n  \\n \\n  \\n \\n  \\n \\n \\n  \\n \\n \\n  \\n \\n \\n  \\n \\n      \\n \\n \\n \\n \\n \\n \\n \\n \\n \\n  \\n \\n \\uf06eCan’t see well enough to do everyday tasks\\nlike reading or cooking\\uf06eHave diffculty recognizing the faces of your\\nfriends or family\\uf06eHave trouble reading street signs\\n\\uf06eFind that lights don’t seem as brightIf you have any of these problems, ask your eye\\ncare professional to test you for low vision. \\nVision rehabilitation programs and special \\naids, such as a magnifying device, can help you adapt to vision loss and make the most of your remaining sight. Remember to ask your eye doctor if it is safe for you to drive with your vision. If you have to stop driving, organizations in your area may be able to arrange rides for you, or public transportation may be available. \\nOther tips that may help: \\n\\uf06eBrighten the lighting in your room.\\n\\uf06eWrite with bold, black felt-tip markers.\\n\\uf06eUse paper with bold lines to help you write in\\na straight line.\\uf06ePut colored tape on the edge of any stairs in', '\\uf06eBrighten the lighting in your room.\\n\\uf06eWrite with bold, black felt-tip markers.\\n\\uf06eUse paper with bold lines to help you write in\\na straight line.\\uf06ePut colored tape on the edge of any stairs in\\nyour home to help you see them and help preventyou from falling.\\uf06eInstall dark-colored light switches and\\nelectrical outlets so that you can see them easilyagainst light-colored walls.\\uf06eUse motion lights that turn on when you enter\\na room. These may help you avoid accidentscaused by poor lighting.\\uf06eUse clocks with large numbers and phones\\nwith large screens; put large-print labels on themicrowave and stove.For Mor e Informatio n About \\nEye Problems \\nNational Eye Institute \\n301-496-5248\\n2020@nei.nih.gov\\nwww.n ei.ni h.gov \\nN\\national Library of Medicine \\nMedlinePlus \\nwww.medlineplus.g ov \\nVis\\nionAware \\nAme\\nrican Printing House for the Blind \\n800-232-5463 \\nconnectcenter@aph.org \\nhttps: //visionaware.org \\nFor more information on health and aging, \\ncontact: \\nNational Institute on Aging \\nInformation C enter \\n800-222-2225', '800-232-5463 \\nconnectcenter@aph.org \\nhttps: //visionaware.org \\nFor more information on health and aging, \\ncontact: \\nNational Institute on Aging \\nInformation C enter \\n800-222-2225 \\n800-222-4225 (TTY) \\nniaic@nia.nih.gov \\nwww.ni a.nih.gov \\nVisit www.ni a.nih.gov/health t o fnd more health \\nan\\nd aging information from NIA and subscribe to \\nemail alerts. Visit https: //order.ni a.nih.gov t o order \\nfree print publications. \\nNational Institute \\non Aging \\n3 NIH...Turning Discovery Into Health® November 2021']\n",
            "total number of text chunk is 11\n"
          ]
        }
      ],
      "source": [
        "print(f\"processed text chunks are: {texts}\")\n",
        "print(f\"total number of text chunk is {len(texts)}\")\n"
      ]
    },
    {
      "cell_type": "markdown",
      "source": [
        "Obtain the embedding for using the pretrained embeddings; initialize the FAISS document store using the preprocessed text and the pretrained embeddings of the text."
      ],
      "metadata": {
        "id": "lVqV-cMNsoPo"
      }
    },
    {
      "cell_type": "code",
      "execution_count": 9,
      "metadata": {
        "id": "UfvfGj1fmqBf"
      },
      "outputs": [],
      "source": [
        "# initialize the FAISS document store using the preprocessed text and initialized embeddings\n",
        "docsearch = FAISS.from_texts(texts, embeddings)\n",
        "retriever = docsearch.as_retriever(search_type=\"similarity\", search_kwargs={\"k\":2})"
      ]
    },
    {
      "cell_type": "markdown",
      "source": [
        "Define the prompt template; A prompt template has 3 key things\n",
        "\n",
        "\n",
        "*   Instruction\n",
        "*   Context\n",
        "*   Question\n",
        "\n"
      ],
      "metadata": {
        "id": "dTMDMui3s5zg"
      }
    },
    {
      "cell_type": "code",
      "execution_count": 10,
      "metadata": {
        "id": "WsgjiNxus7un"
      },
      "outputs": [],
      "source": [
        "prompt_template = \"\"\"You are a helpful AI assistant. Use the following pieces of context to answer the question at the end.\n",
        "       provide the answer in a easy and understandable way.\n",
        "       if the question is not related to the context, please answer with \"I do not have it in my context\".\n",
        "\n",
        "       Context: {context}\n",
        "\n",
        "       User: {question}\n",
        "       System: \"\"\""
      ]
    },
    {
      "cell_type": "code",
      "execution_count": null,
      "metadata": {
        "id": "NEO8cBXXzEeC"
      },
      "outputs": [],
      "source": [
        "prompt_template = \"\"\"You are a helpful AI assistant. Use the following pieces of context to answer the question at the end.\n",
        "       provide the answer in a easy and understandable way.\n",
        "       if the question is not related to the context, please answer with some made up texts.\n",
        "\n",
        "       Context: {context}\n",
        "\n",
        "       User: {question}\n",
        "       System: \"\"\""
      ]
    },
    {
      "cell_type": "code",
      "execution_count": null,
      "metadata": {
        "id": "MQeRdmUzzZ2n"
      },
      "outputs": [],
      "source": [
        "prompt_template = \"\"\"You are a helpful AI assistant. Use the following pieces of context to answer the question at the end.\n",
        "       provide the answer in a easy and understandable way.\n",
        "       if the question is not related to the context, please answer rude and angry behaviour.\n",
        "\n",
        "       Context: {context}\n",
        "\n",
        "       User: {question}\n",
        "       System: \"\"\""
      ]
    },
    {
      "cell_type": "markdown",
      "source": [
        "Initialize the qa_prompt object which will be initialized by prompt template from langchain. Here, input variables and the prompt template is required"
      ],
      "metadata": {
        "id": "dzOdf_xJtLpr"
      }
    },
    {
      "cell_type": "code",
      "execution_count": 11,
      "metadata": {
        "id": "OrzO-n6os_hf"
      },
      "outputs": [],
      "source": [
        "qa_prompt = PromptTemplate(input_variables=[\"context\", \"question\"], template=prompt_template)"
      ]
    },
    {
      "cell_type": "markdown",
      "source": [
        "Define the conversational memory buffer to store ongoing conversation in the memory; Initialize a question answering object by providing all the things that we have initialized before. i.e, the retriever object, memory, llm and qa prompt object"
      ],
      "metadata": {
        "id": "FGQBFyZgtcUR"
      }
    },
    {
      "cell_type": "code",
      "execution_count": 12,
      "metadata": {
        "id": "fQHGMujctJPA"
      },
      "outputs": [],
      "source": [
        "# Create a conversation buffer memory\n",
        "memory = ConversationBufferMemory(memory_key=\"chat_history\", return_messages=True)\n",
        "qa = ConversationalRetrievalChain.from_llm(llm=llm, retriever=retriever, memory=memory, combine_docs_chain_kwargs={'prompt': qa_prompt})\n"
      ]
    },
    {
      "cell_type": "markdown",
      "source": [
        "Try to do conversation with the system"
      ],
      "metadata": {
        "id": "pZdT9gAIt692"
      }
    },
    {
      "cell_type": "code",
      "execution_count": 13,
      "metadata": {
        "colab": {
          "base_uri": "https://localhost:8080/",
          "height": 445
        },
        "id": "P2vuJ-8LtML0",
        "outputId": "302981c2-e8bd-4ce1-e040-e23053676c4f"
      },
      "outputs": [
        {
          "output_type": "stream",
          "name": "stdout",
          "text": [
            "what is this document about?\n",
            "answer: This document provides tips and information on how to adapt to vision loss and improve visibility in everyday tasks. It suggests ways to brighten the lighting in your room, use bold markers and paper for writing, and put colored tape on stairs to prevent falls. It also mentions the importance of getting tested for low vision and seeking vision rehabilitation programs and aids.\n"
          ]
        },
        {
          "output_type": "error",
          "ename": "KeyboardInterrupt",
          "evalue": "ignored",
          "traceback": [
            "\u001b[0;31m---------------------------------------------------------------------------\u001b[0m",
            "\u001b[0;31mKeyboardInterrupt\u001b[0m                         Traceback (most recent call last)",
            "\u001b[0;32m<ipython-input-13-2292b510c956>\u001b[0m in \u001b[0;36m<cell line: 2>\u001b[0;34m()\u001b[0m\n\u001b[1;32m      1\u001b[0m \u001b[0mchat_history\u001b[0m \u001b[0;34m=\u001b[0m \u001b[0;34m[\u001b[0m\u001b[0;34m]\u001b[0m\u001b[0;34m\u001b[0m\u001b[0;34m\u001b[0m\u001b[0m\n\u001b[1;32m      2\u001b[0m \u001b[0;32mwhile\u001b[0m \u001b[0;32mTrue\u001b[0m\u001b[0;34m:\u001b[0m\u001b[0;34m\u001b[0m\u001b[0;34m\u001b[0m\u001b[0m\n\u001b[0;32m----> 3\u001b[0;31m   \u001b[0mquery\u001b[0m \u001b[0;34m=\u001b[0m \u001b[0minput\u001b[0m\u001b[0;34m(\u001b[0m\u001b[0;34m\"\"\u001b[0m\u001b[0;34m)\u001b[0m\u001b[0;34m\u001b[0m\u001b[0;34m\u001b[0m\u001b[0m\n\u001b[0m\u001b[1;32m      4\u001b[0m   \u001b[0mresult\u001b[0m \u001b[0;34m=\u001b[0m \u001b[0mqa\u001b[0m\u001b[0;34m(\u001b[0m\u001b[0;34m{\u001b[0m\u001b[0;34m\"question\"\u001b[0m\u001b[0;34m:\u001b[0m \u001b[0mquery\u001b[0m\u001b[0;34m,\u001b[0m \u001b[0;34m\"chat_history\"\u001b[0m\u001b[0;34m:\u001b[0m \u001b[0mchat_history\u001b[0m\u001b[0;34m}\u001b[0m\u001b[0;34m)\u001b[0m\u001b[0;34m\u001b[0m\u001b[0;34m\u001b[0m\u001b[0m\n\u001b[1;32m      5\u001b[0m   \u001b[0mprint\u001b[0m\u001b[0;34m(\u001b[0m\u001b[0;34mf'answer: {result[\"answer\"]}'\u001b[0m\u001b[0;34m)\u001b[0m\u001b[0;34m\u001b[0m\u001b[0;34m\u001b[0m\u001b[0m\n",
            "\u001b[0;32m/usr/local/lib/python3.10/dist-packages/ipykernel/kernelbase.py\u001b[0m in \u001b[0;36mraw_input\u001b[0;34m(self, prompt)\u001b[0m\n\u001b[1;32m    849\u001b[0m                 \u001b[0;34m\"raw_input was called, but this frontend does not support input requests.\"\u001b[0m\u001b[0;34m\u001b[0m\u001b[0;34m\u001b[0m\u001b[0m\n\u001b[1;32m    850\u001b[0m             )\n\u001b[0;32m--> 851\u001b[0;31m         return self._input_request(str(prompt),\n\u001b[0m\u001b[1;32m    852\u001b[0m             \u001b[0mself\u001b[0m\u001b[0;34m.\u001b[0m\u001b[0m_parent_ident\u001b[0m\u001b[0;34m,\u001b[0m\u001b[0;34m\u001b[0m\u001b[0;34m\u001b[0m\u001b[0m\n\u001b[1;32m    853\u001b[0m             \u001b[0mself\u001b[0m\u001b[0;34m.\u001b[0m\u001b[0m_parent_header\u001b[0m\u001b[0;34m,\u001b[0m\u001b[0;34m\u001b[0m\u001b[0;34m\u001b[0m\u001b[0m\n",
            "\u001b[0;32m/usr/local/lib/python3.10/dist-packages/ipykernel/kernelbase.py\u001b[0m in \u001b[0;36m_input_request\u001b[0;34m(self, prompt, ident, parent, password)\u001b[0m\n\u001b[1;32m    893\u001b[0m             \u001b[0;32mexcept\u001b[0m \u001b[0mKeyboardInterrupt\u001b[0m\u001b[0;34m:\u001b[0m\u001b[0;34m\u001b[0m\u001b[0;34m\u001b[0m\u001b[0m\n\u001b[1;32m    894\u001b[0m                 \u001b[0;31m# re-raise KeyboardInterrupt, to truncate traceback\u001b[0m\u001b[0;34m\u001b[0m\u001b[0;34m\u001b[0m\u001b[0m\n\u001b[0;32m--> 895\u001b[0;31m                 \u001b[0;32mraise\u001b[0m \u001b[0mKeyboardInterrupt\u001b[0m\u001b[0;34m(\u001b[0m\u001b[0;34m\"Interrupted by user\"\u001b[0m\u001b[0;34m)\u001b[0m \u001b[0;32mfrom\u001b[0m \u001b[0;32mNone\u001b[0m\u001b[0;34m\u001b[0m\u001b[0;34m\u001b[0m\u001b[0m\n\u001b[0m\u001b[1;32m    896\u001b[0m             \u001b[0;32mexcept\u001b[0m \u001b[0mException\u001b[0m \u001b[0;32mas\u001b[0m \u001b[0me\u001b[0m\u001b[0;34m:\u001b[0m\u001b[0;34m\u001b[0m\u001b[0;34m\u001b[0m\u001b[0m\n\u001b[1;32m    897\u001b[0m                 \u001b[0mself\u001b[0m\u001b[0;34m.\u001b[0m\u001b[0mlog\u001b[0m\u001b[0;34m.\u001b[0m\u001b[0mwarning\u001b[0m\u001b[0;34m(\u001b[0m\u001b[0;34m\"Invalid Message:\"\u001b[0m\u001b[0;34m,\u001b[0m \u001b[0mexc_info\u001b[0m\u001b[0;34m=\u001b[0m\u001b[0;32mTrue\u001b[0m\u001b[0;34m)\u001b[0m\u001b[0;34m\u001b[0m\u001b[0;34m\u001b[0m\u001b[0m\n",
            "\u001b[0;31mKeyboardInterrupt\u001b[0m: Interrupted by user"
          ]
        }
      ],
      "source": [
        "chat_history = []\n",
        "while True:\n",
        "  query = input(\"\")\n",
        "  result = qa({\"question\": query, \"chat_history\": chat_history})\n",
        "  print(f'answer: {result[\"answer\"]}')\n",
        "  chat_history.append((query, result[\"answer\"]))"
      ]
    },
    {
      "cell_type": "markdown",
      "source": [
        "The following part is just for 1 shot question answering where we are not using any kind of memory."
      ],
      "metadata": {
        "id": "FeyaKf9buBOs"
      }
    },
    {
      "cell_type": "code",
      "execution_count": null,
      "metadata": {
        "id": "QfTaCO6cxloF"
      },
      "outputs": [],
      "source": [
        "qa_prompt = PromptTemplate(input_variables=[\"context\",  \"question\"], template=prompt_template)\n",
        "\n",
        "chain_type_kwargs = {\"prompt\": qa_prompt}\n",
        "qa = RetrievalQA.from_chain_type(llm=llm, chain_type=\"stuff\", retriever=retriever, chain_type_kwargs=chain_type_kwargs, return_source_documents=True)\n"
      ]
    },
    {
      "cell_type": "code",
      "execution_count": null,
      "metadata": {
        "colab": {
          "base_uri": "https://localhost:8080/"
        },
        "id": "giG82ra7yQDb",
        "outputId": "bcf14e74-2641-4941-cfaa-84b41e18f60b"
      },
      "outputs": [
        {
          "name": "stdout",
          "output_type": "stream",
          "text": [
            "answer: \n",
            "I'm sorry, that question is not related to the context provided. Please ask a question related to the information provided.\n",
            "source documents: [Document(page_content='This order prescribes a uniform system for classifying, \\nsafeguarding, and declassifying national security \\ninformation, including information relating to defense \\nagainst transnational terrorism. Our democratic principles \\nrequire that the American people be informed of the \\nactivities of their Government. Also, our Nation’s progress \\ndepends on the free flow of information both within the \\nGovernment and to the American people. Nevertheless, \\nthroughout our history, the national defense has required \\nthat certain information be maintained in confidence in \\norder to protect our citizens, our democratic institutions, \\nour homeland security, and our interactions with \\nforeign nations. Protecting information critical to our \\nNation’s security and demonstrating our commitment \\nto open Government through accurate and accountable \\napplication of classification standards and routine, secure, \\nand effective declassification are equally important \\npriorities.\\nNOW, THEREFORE, I, BARACK OBAMA, by the', metadata={}), Document(page_content='shall be fined under this title or imprisoned not more \\nthan three years, or both; and shall forfeit his office \\nand be disqualified from holding any office under the \\nUnited States. As used in this subsection, the term \\n“office” does not include the office held by any person \\nas a retired officer of the Armed Forces of the United \\nStates. 8 | BASIC LAWS and AUTHORITIES   BASIC LAWS and AUTHORITIES  | 9\\tDISSEMINATION of INFORMATION  \\nWITHIN the UNITED STATES\\n(22 U.S.C. § 1461-1a)\\n§ 1461-1A\\n(a) In general\\nNo funds authorized to be appropriated to the \\nDepartment of State or the Broadcasting Board of \\nGovernors shall be used to influence public opinion in the \\nUnited States. This section shall apply only to programs \\ncarried out pursuant to the United States Information \\nand Educational Exchange Act of 1948 (22 U.S.C. 1431 \\net seq.), the United States International Broadcasting Act \\nof 1994 (22 U.S.C. 6201 et seq.), the Radio Broadcasting \\nto Cuba Act (22 U.S.C. 1465 et seq.), and the Television', metadata={})]\n"
          ]
        }
      ],
      "source": [
        "query = \"How can I take care of my eyes?\"\n",
        "result = qa({\"query\": query})\n",
        "print(f\"answer: {result['result']}\")\n",
        "print(f\"source documents: {result['source_documents']}\")"
      ]
    }
  ],
  "metadata": {
    "colab": {
      "provenance": []
    },
    "kernelspec": {
      "display_name": "Python 3",
      "name": "python3"
    },
    "language_info": {
      "name": "python"
    }
  },
  "nbformat": 4,
  "nbformat_minor": 0
}